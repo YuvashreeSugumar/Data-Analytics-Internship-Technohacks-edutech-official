{
 "cells": [
  {
   "cell_type": "code",
   "execution_count": 1,
   "id": "069ed882",
   "metadata": {},
   "outputs": [],
   "source": [
    "#TASK 3 : Visualization using Histogram\n",
    "#Create a histogram or bar chart to visualize the distribution of data in a dataclasses_to_dicts\n",
    "#By YUVASHREE S"
   ]
  },
  {
   "cell_type": "code",
   "execution_count": 2,
   "id": "9e9b85b2",
   "metadata": {},
   "outputs": [],
   "source": [
    "#Implementing the Dependencies"
   ]
  },
  {
   "cell_type": "code",
   "execution_count": 3,
   "id": "5ae7871a",
   "metadata": {},
   "outputs": [],
   "source": [
    "import pandas as pd\n",
    "import seaborn as sns"
   ]
  },
  {
   "cell_type": "code",
   "execution_count": 4,
   "id": "65f92440",
   "metadata": {},
   "outputs": [],
   "source": [
    "#Reading the datasets"
   ]
  },
  {
   "cell_type": "code",
   "execution_count": 5,
   "id": "486196c3",
   "metadata": {},
   "outputs": [
    {
     "name": "stdout",
     "output_type": "stream",
     "text": [
      "      Id  SepalLengthCm  SepalWidthCm  PetalLengthCm  PetalWidthCm  \\\n",
      "0      1            5.1           3.5            1.4           0.2   \n",
      "1      2            4.9           3.0            1.4           0.2   \n",
      "2      3            4.7           3.2            1.3           0.2   \n",
      "3      4            4.6           3.1            1.5           0.2   \n",
      "4      5            5.0           3.6            1.4           0.2   \n",
      "..   ...            ...           ...            ...           ...   \n",
      "145  146            6.7           3.0            5.2           2.3   \n",
      "146  147            6.3           2.5            5.0           1.9   \n",
      "147  148            6.5           3.0            5.2           2.0   \n",
      "148  149            6.2           3.4            5.4           2.3   \n",
      "149  150            5.9           3.0            5.1           1.8   \n",
      "\n",
      "            Species  \n",
      "0       Iris-setosa  \n",
      "1       Iris-setosa  \n",
      "2       Iris-setosa  \n",
      "3       Iris-setosa  \n",
      "4       Iris-setosa  \n",
      "..              ...  \n",
      "145  Iris-virginica  \n",
      "146  Iris-virginica  \n",
      "147  Iris-virginica  \n",
      "148  Iris-virginica  \n",
      "149  Iris-virginica  \n",
      "\n",
      "[150 rows x 6 columns]\n"
     ]
    }
   ],
   "source": [
    "iris_data = pd.read_csv(\"Iris.csv\")\n",
    "print(iris_data)"
   ]
  },
  {
   "cell_type": "code",
   "execution_count": 6,
   "id": "1a005e5a",
   "metadata": {},
   "outputs": [
    {
     "data": {
      "text/plain": [
       "<seaborn.axisgrid.FacetGrid at 0x18cc8e20e20>"
      ]
     },
     "execution_count": 6,
     "metadata": {},
     "output_type": "execute_result"
    },
    {
     "data": {
      "image/png": "[encoded data removed]",
      "text/plain": [
       "<Figure size 500x500 with 1 Axes>"
      ]
     },
     "metadata": {},
     "output_type": "display_data"
    }
   ],
   "source": [
    "#plotting the histogram for SepalLength\n",
    "sns.displot(x = \"SepalLengthCm\", data = iris_data)"
   ]
  },
  {
   "cell_type": "code",
   "execution_count": 7,
   "id": "b0d5222c",
   "metadata": {},
   "outputs": [
    {
     "data": {
      "text/plain": [
       "<seaborn.axisgrid.FacetGrid at 0x18ccea99e20>"
      ]
     },
     "execution_count": 7,
     "metadata": {},
     "output_type": "execute_result"
    }
   ],
   "source": [
    "#plotting the histogram for SepalWidth\n",
    "sns.displot(x = \"SepalWidthCm\", data = iris_data)"
   ]
  },
  {
   "cell_type": "code",
   "execution_count": 8,
   "id": "d6ee549b",
   "metadata": {},
   "outputs": [
    {
     "data": {
      "text/plain": [
       "<seaborn.axisgrid.FacetGrid at 0x18ccea99b20>"
      ]
     },
     "execution_count": 8,
     "metadata": {},
     "output_type": "execute_result"
    }
   ],
   "source": [
    "#plotting the histogram for PetalLength\n",
    "sns.displot(x = \"PetalLengthCm\", data = iris_data)"
   ]
  },
  {
   "cell_type": "code",
   "execution_count": 9,
   "id": "fe10aa6f",
   "metadata": {},
   "outputs": [
    {
     "data": {
      "text/plain": [
       "<seaborn.axisgrid.FacetGrid at 0x18cce3906d0>"
      ]
     },
     "execution_count": 9,
     "metadata": {},
     "output_type": "execute_result"
    }
   ],
   "source": [
    "#plotting the histogram for PetalLength\n",
    "sns.displot(x = \"PetalLengthCm\", data = iris_data)\n",
    "#plotting the histogram for PetalWidth\n",
    "sns.displot(x = \"PetalWidthCm\", data = iris_data)\n"
   ]
  },
  {
   "cell_type": "code",
   "execution_count": 10,
   "id": "916afa39",
   "metadata": {
    "scrolled": true
   },
   "outputs": [
    {
     "data": {
      "text/plain": [
       "<seaborn.axisgrid.FacetGrid at 0x18cce390910>"
      ]
     },
     "execution_count": 10,
     "metadata": {},
     "output_type": "execute_result"
    }
   ],
   "source": [
    "#plotting the histogram for Species\n",
    "sns.displot(x = \"Species\", data = iris_data)"
   ]
  },
  {
   "cell_type": "code",
   "execution_count": null,
   "id": "2d2c1b9d",
   "metadata": {},
   "outputs": [],
   "source": []
  }
 ],
 "metadata": {
  "kernelspec": {
   "display_name": "Python 3 (ipykernel)",
   "language": "python",
   "name": "python3"
  },
  "language_info": {
   "codemirror_mode": {
    "name": "ipython",
    "version": 3
   },
   "file_extension": ".py",
   "mimetype": "text/x-python",
   "name": "python",
   "nbconvert_exporter": "python",
   "pygments_lexer": "ipython3",
   "version": "3.9.13"
  }
 },
 "nbformat": 4,
 "nbformat_minor": 5
}
